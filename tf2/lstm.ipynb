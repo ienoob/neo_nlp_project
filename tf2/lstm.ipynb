{
 "cells": [
  {
   "cell_type": "code",
   "execution_count": 1,
   "metadata": {},
   "outputs": [],
   "source": [
    "import tensorflow as tf"
   ]
  },
  {
   "cell_type": "markdown",
   "metadata": {},
   "source": [
    "# lstm\n",
    "\n",
    "lstm, 全称是 long short term memory neural network, 中文名是长短记忆时网络。 该网络是RNN（Recurent neural network ）的变种。RNN类型相比于全连接神经网络的优势在于，同级别的网络层之间没有连接，那么输出信息只和输入信息相关，和输入的先后顺序无关。同时全连接网络的神经元不能存储信息，那么就没有记忆功能。对于和时间相关的输入数据，全连接网络就不能有效处理。\n",
    "举个例子，\n",
    "如果判别“地球上最高峰是珠穆朗玛峰”这个句子是否表达正确。全连接神经网络会将这个句子划分成几个词（地球，上，最高峰，是，珠穆朗玛峰）， 分布输入到模型中，忽略了词之间的关系。\n",
    "\n",
    "RNN能够有效处理这类数据。然而，RNN自身也存在一些问题。RNN在理论上可以保留所有历史时刻的信息，但是在实际使用中，信息的传递往往会因为间隔太长而逐渐衰减，传递一段时刻以后，信息的作用效果就大大降低了。因此，普通RNN对于信息的长期依赖问题没有很好的处理办法。\n",
    "\n",
    "为了克服这个问题， Hochreiter 等人改进了RNN， 提出了特殊的RNN模型， LSTM, 可以学习到长期依赖信息。\n",
    "\n",
    "\n",
    "lstm网络的结构如下：\n",
    "\n",
    "lstm 基本思想\n",
    "LSTM的关键是细胞状态，表示为C_t, \n"
   ]
  }
 ],
 "metadata": {
  "kernelspec": {
   "display_name": "Python 3",
   "language": "python",
   "name": "python3"
  },
  "language_info": {
   "codemirror_mode": {
    "name": "ipython",
    "version": 3
   },
   "file_extension": ".py",
   "mimetype": "text/x-python",
   "name": "python",
   "nbconvert_exporter": "python",
   "pygments_lexer": "ipython3",
   "version": "3.6.4"
  }
 },
 "nbformat": 4,
 "nbformat_minor": 2
}
